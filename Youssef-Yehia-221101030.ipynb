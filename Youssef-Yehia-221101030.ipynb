{
  "cells": [
    {
      "cell_type": "code",
      "source": [
        "import numpy as np\n",
        "\n",
        "def pearson_correlation(user1, user2):\n",
        "    \"\"\"Calculate Pearson correlation between two users\"\"\"\n",
        "\n",
        "    # Get common rated items\n",
        "    mask = []\n",
        "    for i in range(len(user1)):\n",
        "        if user1[i] != 0 and user2[i] != 0:\n",
        "            mask.append(i)\n",
        "\n",
        "    if len(mask) == 0:\n",
        "        return 0\n",
        "\n",
        "    # Extract common ratings\n",
        "    u1 = [user1[i] for i in mask]\n",
        "    u2 = [user2[i] for i in mask]\n",
        "\n",
        "    # Compute means manually\n",
        "    sum1 = 0\n",
        "    sum2 = 0\n",
        "    for i in range(len(u1)):\n",
        "      # DONE: accumulate sums for u1 and u2\n",
        "        sum1 += u1[i]\n",
        "        sum2 += u2[i]\n",
        "\n",
        "    mean1 = sum1 / len(u1)\n",
        "    mean2 = sum2 / len(u2)\n",
        "\n",
        "    # Compute deviations\n",
        "    dev1 = []\n",
        "    dev2 = []\n",
        "    for i in range(len(u1)):\n",
        "      # DONE: compute (u1[i] - mean1) and (u2[i] - mean2)\n",
        "        dev1.append(u1[i] - mean1)\n",
        "        dev2.append(u2[i] - mean2)\n",
        "\n",
        "    # Compute numerator (dot product)\n",
        "    numerator = 0\n",
        "    for i in range(len(dev1)):\n",
        "      # DONE: multiply and accumulate (dev1[i] * dev2[i])\n",
        "        numerator += (dev1[i] * dev2[i])\n",
        "\n",
        "    # DONE: calculate denominator using power (no np.sqrt)\n",
        "    sum_sq1 = 0\n",
        "    sum_sq2 = 0\n",
        "    for i in range(len(dev1)):\n",
        "      # DONE: accumulate squares of dev1[i] and dev2[i]\n",
        "        sum_sq1 += dev1[i]**2 # without np.sqrt as doctor mentioned\n",
        "        sum_sq2 += dev2[i]**2 # without np.sqrt as doctor mentioned\n",
        "\n",
        "    denominator = (sum_sq1 * sum_sq2)**0.5 # without np.sqrt as doctor mentioned\n",
        "\n",
        "    if denominator == 0:\n",
        "        return 0\n",
        "\n",
        "    return numerator / denominator\n",
        "\n",
        "\n",
        "# Example usage\n",
        "user_A = np.array([5, 3, 0, 4, 0, 2])\n",
        "user_C = np.array([4, 3, 4, 3, 5, 3])\n",
        "\n",
        "correlation = pearson_correlation(user_A, user_C)\n",
        "print('Pearson Correlation:', correlation)\n",
        "# Output: Pearson Correlation: 0.775"
      ],
      "metadata": {
        "id": "H1b8c2CFtp0H",
        "outputId": "e31fd5fa-2268-4cca-ec9e-8480ee847410",
        "colab": {
          "base_uri": "https://localhost:8080/"
        }
      },
      "execution_count": 8,
      "outputs": [
        {
          "output_type": "stream",
          "name": "stdout",
          "text": [
            "Pearson Correlation: 0.7745966692414834\n"
          ]
        }
      ]
    }
  ],
  "metadata": {
    "colab": {
      "name": "Welcome to Colab",
      "toc_visible": true,
      "provenance": []
    },
    "kernelspec": {
      "display_name": "Python 3",
      "name": "python3"
    }
  },
  "nbformat": 4,
  "nbformat_minor": 0
}